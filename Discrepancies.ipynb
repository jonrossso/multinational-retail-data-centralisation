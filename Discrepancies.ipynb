{
 "cells": [
  {
   "cell_type": "markdown",
   "metadata": {},
   "source": [
    "-- During the creation of my database schema, I kept on obtaining the error: \"insert or update on table \"xxxxx\" violates foreign key constraint. The reason I kept obtaining this error was because there were some rows that existed within the orders_table that were not present within the other tables. To solve this, I used SQL queries to find out which rows they were. I finally resolved this issue by using \"ON DELETE\" and \"ON UPDATE\" within my SQL queries when adding foreign key constraints to create relational links which handled updates in respective tables."
   ]
  },
  {
   "cell_type": "code",
   "execution_count": null,
   "metadata": {
    "vscode": {
     "languageId": "sql"
    }
   },
   "outputs": [],
   "source": [
    "SELECT DISTINCT date_uuid\n",
    "FROM orders_table\n",
    "WHERE date_uuid NOT IN (SELECT date_uuid FROM dim_date_times);"
   ]
  },
  {
   "cell_type": "code",
   "execution_count": null,
   "metadata": {
    "vscode": {
     "languageId": "sql"
    }
   },
   "outputs": [],
   "source": [
    "SELECT DISTINCT card_number\n",
    "FROM orders_table\n",
    "WHERE card_number NOT IN (SELECT card_number FROM dim_card_details);"
   ]
  },
  {
   "cell_type": "code",
   "execution_count": null,
   "metadata": {
    "vscode": {
     "languageId": "sql"
    }
   },
   "outputs": [],
   "source": [
    "SELECT DISTINCT product_code\n",
    "FROM orders_table\n",
    "WHERE product_code NOT IN (SELECT product_code FROM dim_products);"
   ]
  },
  {
   "cell_type": "code",
   "execution_count": null,
   "metadata": {
    "vscode": {
     "languageId": "sql"
    }
   },
   "outputs": [],
   "source": [
    "SELECT DISTINCT store_code\n",
    "FROM orders_table\n",
    "WHERE store_code NOT IN (SELECT store_code FROM dim_store_details);"
   ]
  }
 ],
 "metadata": {
  "kernelspec": {
   "display_name": "Python 3",
   "language": "python",
   "name": "python3"
  },
  "language_info": {
   "codemirror_mode": {
    "name": "ipython",
    "version": 3
   },
   "file_extension": ".py",
   "mimetype": "text/x-python",
   "name": "python",
   "nbconvert_exporter": "python",
   "pygments_lexer": "ipython3",
   "version": "3.12.1"
  }
 },
 "nbformat": 4,
 "nbformat_minor": 2
}
